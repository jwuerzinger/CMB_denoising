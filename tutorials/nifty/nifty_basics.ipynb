{
 "cells": [
  {
   "cell_type": "code",
   "execution_count": 1,
   "metadata": {},
   "outputs": [],
   "source": [
    "import os\n",
    "os.environ['CUDA_VISIBLE_DEVICES'] = '1,2'\n",
    "\n",
    "import jax\n",
    "import jax.numpy as jnp\n",
    "import nifty8.re as jft\n",
    "import matplotlib.pyplot as plt\n",
    "from functools import partial\n",
    "\n",
    "\n",
    "from jax import random"
   ]
  },
  {
   "cell_type": "code",
   "execution_count": 2,
   "metadata": {},
   "outputs": [],
   "source": [
    "seed = 42\n",
    "key = random.PRNGKey(seed)"
   ]
  },
  {
   "cell_type": "markdown",
   "metadata": {},
   "source": [
    "### Prior models"
   ]
  },
  {
   "cell_type": "code",
   "execution_count": 3,
   "metadata": {},
   "outputs": [],
   "source": [
    "# dims = (128, 128)\n",
    "dims = (1000, 1000)\n",
    "\n",
    "# correlated field zero mode GP offset and stddev\n",
    "cf_zm = dict(offset_mean=0.0, offset_std=(1e-3, 1e-4))\n",
    "# correlated field fluctuations (mostly don't need tuning)\n",
    "cf_fl = dict(\n",
    "    fluctuations=(1e0, 5e-2), # fluctuations: y-offset in power spectrum in fourier space (zero mode)\n",
    "    loglogavgslope=(-3e0, 1e-2), # power-spectrum slope in log-log space in frequency domain (Fourier space)\n",
    "    flexibility=(1e0, 5e-1), # deviation from simple power-law\n",
    "    asperity=(5e-1, 5e-2), # small scale features in power-law\n",
    ")\n",
    "\n",
    "# put together in correlated field model\n",
    "cfm = jft.CorrelatedFieldMaker(\"cf\")\n",
    "cfm.set_amplitude_total_offset(**cf_zm)\n",
    "cfm.add_fluctuations(\n",
    "    dims, distances=1.0 / dims[0], **cf_fl, prefix=\"ax1\", non_parametric_kind=\"power\"\n",
    ")\n",
    "gp = cfm.finalize()\n",
    "\n",
    "# put together in correlated field model\n",
    "cfm_atmos = jft.CorrelatedFieldMaker(\"cf_atmos\")\n",
    "cfm_atmos.set_amplitude_total_offset(**cf_zm)\n",
    "cfm_atmos.add_fluctuations(\n",
    "    dims, distances=1.0 / dims[0], **cf_fl, prefix=\"ax1\", non_parametric_kind=\"power\"\n",
    ")\n",
    "gp_atmos = cfm_atmos.finalize()"
   ]
  },
  {
   "cell_type": "code",
   "execution_count": 4,
   "metadata": {},
   "outputs": [
    {
     "data": {
      "text/plain": [
       "{'cf_atmoszeromode': ShapeWithDtype(shape=(), dtype=<class 'jax.numpy.float64'>),\n",
       " 'cf_atmosax1fluctuations': ShapeWithDtype(shape=(), dtype=<class 'jax.numpy.float64'>),\n",
       " 'cf_atmosax1loglogavgslope': ShapeWithDtype(shape=(), dtype=<class 'jax.numpy.float64'>),\n",
       " 'cf_atmosax1spectrum': ShapeWithDtype(shape=(79132, 2), dtype=<class 'jax.numpy.float64'>),\n",
       " 'cf_atmosax1flexibility': ShapeWithDtype(shape=(), dtype=<class 'jax.numpy.float64'>),\n",
       " 'cf_atmosax1asperity': ShapeWithDtype(shape=(), dtype=<class 'jax.numpy.float64'>),\n",
       " 'cf_atmosxi': ShapeWithDtype(shape=(1000, 1000), dtype=<class 'jax.numpy.float64'>)}"
      ]
     },
     "execution_count": 4,
     "metadata": {},
     "output_type": "execute_result"
    }
   ],
   "source": [
    "gp_atmos.domain"
   ]
  },
  {
   "cell_type": "code",
   "execution_count": 5,
   "metadata": {},
   "outputs": [
    {
     "name": "stdout",
     "output_type": "stream",
     "text": [
      "1.0123557536142516\n"
     ]
    }
   ],
   "source": [
    "import numpy as np\n",
    "noise_std = 2\n",
    "test = np.random.standard_normal()\n",
    "import operator\n",
    "\n",
    "\n",
    "\n",
    "_config = jft.config._config\n",
    "\n",
    "def hartley(p, axes=None):\n",
    "    from jax.numpy import fft\n",
    "\n",
    "    tmp = fft.fftn(p, axes=axes)\n",
    "    c = _config.get(\"hartley_convention\")\n",
    "    add_or_sub = operator.add if c == \"non_canonical_hartley\" else operator.sub\n",
    "    return add_or_sub(tmp.real, tmp.imag)\n",
    "\n",
    "\n",
    "def inv_hartley(p, axes=None):\n",
    "    from jax.numpy import fft\n",
    "    tmp = fft.fftn(p, axes=axes)  # Forward transform (not IFFT!)\n",
    "    c = _config.get(\"hartley_convention\")\n",
    "    add_or_sub = operator.add if c == \"non_canonical_hartley\" else operator.sub\n",
    "    return add_or_sub(tmp.real, tmp.imag) / p.size  # Normalize\n",
    "\n",
    "\n",
    "a = jnp.float64(np.random.normal(size = (100,100)))\n",
    "b = hartley(inv_hartley(a))\n",
    "print(jnp.std(b))"
   ]
  },
  {
   "cell_type": "code",
   "execution_count": 6,
   "metadata": {},
   "outputs": [
    {
     "name": "stdout",
     "output_type": "stream",
     "text": [
      "atmos_amp.size 1000000\n",
      "atmos_amp.size 1000000\n",
      "atmos_amp.size 1000000\n",
      "2603193.666037463\n"
     ]
    },
    {
     "data": {
      "text/plain": [
       "{'cf_atmosax1asperity': ShapeDtypeStruct(shape=(), dtype=float64),\n",
       " 'cf_atmosax1flexibility': ShapeDtypeStruct(shape=(), dtype=float64),\n",
       " 'cf_atmosax1fluctuations': ShapeDtypeStruct(shape=(), dtype=float64),\n",
       " 'cf_atmosax1loglogavgslope': ShapeDtypeStruct(shape=(), dtype=float64),\n",
       " 'cf_atmosax1spectrum': ShapeDtypeStruct(shape=(79132, 2), dtype=float64),\n",
       " 'cf_atmoszeromode': ShapeDtypeStruct(shape=(), dtype=float64),\n",
       " 'cfax1asperity': ShapeDtypeStruct(shape=(), dtype=float64),\n",
       " 'cfax1flexibility': ShapeDtypeStruct(shape=(), dtype=float64),\n",
       " 'cfax1fluctuations': ShapeDtypeStruct(shape=(), dtype=float64),\n",
       " 'cfax1loglogavgslope': ShapeDtypeStruct(shape=(), dtype=float64),\n",
       " 'cfax1spectrum': ShapeDtypeStruct(shape=(79132, 2), dtype=float64),\n",
       " 'cfxi': ShapeDtypeStruct(shape=(1000, 1000), dtype=float64),\n",
       " 'cfzeromode': ShapeDtypeStruct(shape=(), dtype=float64)}"
      ]
     },
     "execution_count": 6,
     "metadata": {},
     "output_type": "execute_result"
    }
   ],
   "source": [
    "# key, sub = random.split(key)\n",
    "# xi = jft.random_like(sub, gp.domain) # generate std normal parameters \n",
    "# res = gp(xi) # draw sample from gp\n",
    "\n",
    "# pspec = cfm_atmos.power_spectrum(xi)\n",
    "# pspec.shape\n",
    "\n",
    "def _mk_expanded_amp(amp, sub_dom):  # Avoid late binding\n",
    "    def expanded_amp(p):\n",
    "        return amp(p)[sub_dom.harmonic_grid.power_distributor]\n",
    "\n",
    "    return expanded_amp\n",
    "\n",
    "expanded_amplitudes = []\n",
    "namps = cfm_atmos.get_normalized_amplitudes()\n",
    "for amp, sgrid in zip(namps, cfm_atmos._target_grids):\n",
    "    expanded_amplitudes.append(_mk_expanded_amp(amp, sgrid))\n",
    "\n",
    "def atmos_amplitude(p):\n",
    "    outer = expanded_amplitudes[0](p)\n",
    "    for amp in expanded_amplitudes[1:]:\n",
    "        # NOTE, the order is important here and must match with the\n",
    "        # excitations\n",
    "        # TODO, use functions instead and utilize numpy's casting\n",
    "        outer = cfm_atmos.azm(p) * jnp.tensordot(outer, amp(p), axes=0)\n",
    "    return outer\n",
    "\n",
    "noise_std = 42\n",
    "def modified_noise_std():\n",
    "    def f(p):\n",
    "        atmos_amp = atmos_amplitude(p)\n",
    "        mod_noise_cov = atmos_amp**2 + noise_std**2 / atmos_amp.size # correct for hartley factor\n",
    "        print(\"atmos_amp.size\", atmos_amp.size)\n",
    "        # return jnp.sqrt(mod_noise_cov)\n",
    "        return mod_noise_cov**0.5\n",
    "\n",
    "    subtree = {k: v for k, v in cfm_atmos._parameter_tree.items() if k != 'cf_atmosxi'}\n",
    "    # print(\"HERE:\", subtree)\n",
    "    init = {\n",
    "        # k: partial(jft.random_like, primals=v) for k, v in cfm_atmos._parameter_tree.items() if k != 'cfxi' \n",
    "        k: partial(jft.random_like, primals=v) for k, v in subtree.items()\n",
    "    }   \n",
    "    mod_noi_std_model = jft.Model(f, domain=subtree, init=init)\n",
    "\n",
    "    return mod_noi_std_model\n",
    "\n",
    "key, sub = random.split(key)\n",
    "xi = jft.random_like(sub, gp.domain) # generate std normal parameters \n",
    "d = gp(xi)\n",
    "\n",
    "noi_cov = modified_noise_std()\n",
    "# def data_residual(p):\n",
    "#     return d - gp(p)\n",
    "# inp = [data_residual, modified_noise_std]\n",
    "class Varcov_inp(jft.Model):\n",
    "    def __init__(self, gp, modified_noise_std):\n",
    "        self.gp = gp\n",
    "        self.modified_noise_std = modified_noise_std\n",
    "        super().__init__(init=self.gp.init | self.modified_noise_std.init)\n",
    "\n",
    "    def __call__(self, x):\n",
    "        return inv_hartley(self.gp(x)), self.modified_noise_std(x)\n",
    "\n",
    "\n",
    "inp = Varcov_inp(gp, noi_cov)\n",
    "\n",
    "var_cov_gau_llhd = jft.VariableCovarianceGaussian(inv_hartley(d)).amend(inp)\n",
    "\n",
    "key, sub = random.split(key)\n",
    "xi = jft.random_like(sub, var_cov_gau_llhd.domain)\n",
    "print(var_cov_gau_llhd(xi))\n",
    "# print(atmos_amplitude(xi).shape)\n",
    "var_cov_gau_llhd.domain"
   ]
  },
  {
   "cell_type": "code",
   "execution_count": 7,
   "metadata": {},
   "outputs": [
    {
     "ename": "AssertionError",
     "evalue": "",
     "output_type": "error",
     "traceback": [
      "\u001b[0;31m---------------------------------------------------------------------------\u001b[0m",
      "\u001b[0;31mAssertionError\u001b[0m                            Traceback (most recent call last)",
      "Cell \u001b[0;32mIn[7], line 1\u001b[0m\n\u001b[0;32m----> 1\u001b[0m \u001b[38;5;28;01massert\u001b[39;00m \u001b[38;5;28;01mFalse\u001b[39;00m\n",
      "\u001b[0;31mAssertionError\u001b[0m: "
     ]
    }
   ],
   "source": [
    "\n",
    "\n",
    "\n",
    "assert False"
   ]
  },
  {
   "cell_type": "code",
   "execution_count": null,
   "metadata": {},
   "outputs": [],
   "source": [
    "key, sub = random.split(key)\n",
    "xi = jft.random_like(sub, gp.domain) # generate std normal parameters \n",
    "res = gp(xi) # draw sample from gp\n",
    "\n",
    "print(\"res type:\", type(res))\n",
    "print(\"res:\", res)\n",
    "print(\"res shape:\", res.shape)\n",
    "\n",
    "plt.imshow(res)\n",
    "plt.colorbar()\n",
    "plt.show()"
   ]
  },
  {
   "cell_type": "code",
   "execution_count": 5,
   "metadata": {},
   "outputs": [],
   "source": [
    "ps = jft.InvGammaPrior(\n",
    "    a=5.0,\n",
    "    scale=1.0,\n",
    "    name=\"ps\",\n",
    "    shape=dims,\n",
    ")"
   ]
  },
  {
   "cell_type": "code",
   "execution_count": null,
   "metadata": {},
   "outputs": [],
   "source": [
    "key, sub = random.split(key)\n",
    "xi = jft.random_like(sub, ps.domain)\n",
    "res = ps(xi)\n",
    "\n",
    "plt.imshow(res)\n",
    "plt.colorbar()\n",
    "plt.show()"
   ]
  },
  {
   "cell_type": "code",
   "execution_count": 7,
   "metadata": {},
   "outputs": [],
   "source": [
    "class Signal(jft.Model):\n",
    "    def __init__(self, gp, ps):\n",
    "        self.gp = gp\n",
    "        self.ps = ps\n",
    "        super().__init__(init=self.gp.init | self.ps.init)\n",
    "\n",
    "    def __call__(self, x):\n",
    "        return self.gp(x) + self.ps(x)\n",
    "\n",
    "\n",
    "signal = Signal(gp, ps)"
   ]
  },
  {
   "cell_type": "code",
   "execution_count": null,
   "metadata": {},
   "outputs": [],
   "source": [
    "key, sub = random.split(key)\n",
    "xi = jft.random_like(sub, signal.domain)\n",
    "res = signal(xi)\n",
    "\n",
    "plt.imshow(res)\n",
    "plt.colorbar()\n",
    "plt.show()"
   ]
  },
  {
   "cell_type": "markdown",
   "metadata": {},
   "source": [
    "### Create mock data"
   ]
  },
  {
   "cell_type": "code",
   "execution_count": null,
   "metadata": {},
   "outputs": [],
   "source": [
    "signal_response = signal\n",
    "\n",
    "key, subkey = random.split(key)\n",
    "pos_truth = jft.random_like(subkey, signal_response.domain)\n",
    "signal_response_truth = signal_response(pos_truth)\n",
    "\n",
    "noise_truth = 0.1 * jft.random_like(subkey, signal_response.target)\n",
    "# noise_truth = 1e0 * jft.random_like(subkey, signal_response.target)\n",
    "\n",
    "data = signal_response_truth + noise_truth\n",
    "\n",
    "plt.imshow(data)\n",
    "plt.colorbar()\n",
    "plt.show()\n",
    "\n",
    "plt.imshow(signal_response_truth)\n",
    "plt.colorbar()\n",
    "plt.show()"
   ]
  },
  {
   "cell_type": "markdown",
   "metadata": {},
   "source": [
    "### Likelihood"
   ]
  },
  {
   "cell_type": "code",
   "execution_count": null,
   "metadata": {},
   "outputs": [],
   "source": [
    "noise_cov_inv = lambda x: 1e-1**-2 * x\n",
    "\n",
    "lh = jft.Gaussian(data, noise_cov_inv).amend(signal_response)"
   ]
  },
  {
   "cell_type": "markdown",
   "metadata": {},
   "source": [
    "### Approximate posterior"
   ]
  },
  {
   "cell_type": "markdown",
   "metadata": {},
   "source": [
    "Maximum A Posteriori (MAP) estimation"
   ]
  },
  {
   "cell_type": "code",
   "execution_count": null,
   "metadata": {},
   "outputs": [],
   "source": [
    "n_it = 1\n",
    "delta = 1e-4\n",
    "n_samples = 0 # no samples -> maximum aposteriory posterior\n",
    "\n",
    "key, k_i, k_o = random.split(key, 3)\n",
    "\n",
    "samples, state = jft.optimize_kl(\n",
    "    lh, # likelihood\n",
    "    jft.Vector(lh.init(k_i)), # initial position in model space (initialisation)\n",
    "    n_total_iterations=n_it, # no of optimisation steps (global)\n",
    "    n_samples=n_samples, # draw samples\n",
    "    key=k_o, # random jax init\n",
    "    draw_linear_kwargs=dict( # sampling parameters\n",
    "        cg_name=\"SL\",\n",
    "        cg_kwargs=dict(absdelta=delta * jft.size(lh.domain) / 10.0, maxiter=100),\n",
    "    ),\n",
    "    nonlinearly_update_kwargs=dict( # map from multivariate gaussian to more compl. distribution (coordinate transformations)\n",
    "        minimize_kwargs=dict(\n",
    "            name=\"SN\",\n",
    "            xtol=delta,\n",
    "            cg_kwargs=dict(name=None),\n",
    "            maxiter=5,\n",
    "        )\n",
    "    ),\n",
    "    kl_kwargs=dict( # shift transformed multivar gauss to best match true posterior\n",
    "        minimize_kwargs=dict(\n",
    "            name=\"M\", xtol=delta, cg_kwargs=dict(name=None), maxiter=35\n",
    "        )\n",
    "    ),\n",
    "    sample_mode=\"nonlinear_resample\", # how steps are combined (samples + nonlin + KL)\n",
    ")"
   ]
  },
  {
   "cell_type": "code",
   "execution_count": null,
   "metadata": {},
   "outputs": [],
   "source": [
    "# plot maximum of posterior (mode)\n",
    "sig_map = signal(samples.pos)\n",
    "\n",
    "plt.imshow(sig_map - signal_response_truth)\n",
    "plt.colorbar()\n",
    "plt.show()"
   ]
  },
  {
   "cell_type": "markdown",
   "metadata": {},
   "source": [
    "Geometric Variational Inference (GeoVI) -> Jakob's MGVI + nonlin updates"
   ]
  },
  {
   "cell_type": "code",
   "execution_count": null,
   "metadata": {},
   "outputs": [],
   "source": [
    "assert False"
   ]
  },
  {
   "cell_type": "code",
   "execution_count": null,
   "metadata": {},
   "outputs": [],
   "source": [
    "n_it = 5 # no of SL + SN + M\n",
    "delta = 1e-4 # degree of tolerance\n",
    "n_samples = 4 # *2 antithetic samples per n_it\n",
    "\n",
    "key, k_i, k_o = random.split(key, 3)\n",
    "\n",
    "samples, state = jft.optimize_kl(\n",
    "    lh,\n",
    "    jft.Vector(lh.init(k_i)),\n",
    "    n_total_iterations=n_it,\n",
    "    n_samples=n_samples,\n",
    "    key=k_o,\n",
    "    draw_linear_kwargs=dict(\n",
    "        cg_name=\"SL\",\n",
    "        cg_kwargs=dict(absdelta=delta * jft.size(lh.domain) / 10.0, maxiter=100),\n",
    "    ),\n",
    "    nonlinearly_update_kwargs=dict(\n",
    "        minimize_kwargs=dict(\n",
    "            name=\"SN\",\n",
    "            xtol=delta,\n",
    "            cg_kwargs=dict(name=None),\n",
    "            maxiter=5,\n",
    "        )\n",
    "    ),\n",
    "    kl_kwargs=dict(\n",
    "        minimize_kwargs=dict(\n",
    "            name=\"M\", xtol=delta, cg_kwargs=dict(name=None), maxiter=35\n",
    "        )\n",
    "    ),\n",
    "    sample_mode=\"nonlinear_resample\",\n",
    ")"
   ]
  },
  {
   "cell_type": "code",
   "execution_count": null,
   "metadata": {},
   "outputs": [],
   "source": [
    "sig_mean, sig_std = jft.mean_and_std(tuple(signal(s) for s in samples))\n",
    "\n",
    "plt.imshow(sig_mean)\n",
    "plt.colorbar()\n",
    "plt.show()\n",
    "\n",
    "plt.imshow(sig_std)\n",
    "plt.colorbar()\n",
    "plt.show()"
   ]
  },
  {
   "cell_type": "code",
   "execution_count": null,
   "metadata": {},
   "outputs": [],
   "source": [
    "gp_mean, gp_std = jft.mean_and_std(tuple(gp(s) for s in samples))\n",
    "\n",
    "plt.imshow(gp_mean)\n",
    "plt.colorbar()\n",
    "plt.show()\n",
    "\n",
    "plt.imshow(gp_std)\n",
    "plt.colorbar()\n",
    "plt.show()"
   ]
  },
  {
   "cell_type": "code",
   "execution_count": null,
   "metadata": {},
   "outputs": [],
   "source": [
    "ps_mean, ps_std = jft.mean_and_std(tuple(ps(s) for s in samples))\n",
    "\n",
    "plt.imshow(ps_mean)\n",
    "plt.colorbar()\n",
    "plt.show()\n",
    "\n",
    "plt.imshow(ps_std)\n",
    "plt.colorbar()\n",
    "plt.show()"
   ]
  },
  {
   "cell_type": "markdown",
   "metadata": {},
   "source": [
    "### Response function"
   ]
  },
  {
   "cell_type": "code",
   "execution_count": null,
   "metadata": {},
   "outputs": [],
   "source": [
    "class Response(jft.Model):\n",
    "    def __init__(self, signal, mask):\n",
    "        self.signal = signal\n",
    "        self.mask = mask\n",
    "        super().__init__(init=self.signal.init)\n",
    "\n",
    "    def __call__(self, x):\n",
    "        return self.mask * self.signal(x)\n",
    "\n",
    "\n",
    "mask = jnp.ones(dims)\n",
    "mask = mask.at[32:64, 32:64].set(0.0)\n",
    "\n",
    "signal_response_masked = Response(signal, mask)"
   ]
  },
  {
   "cell_type": "code",
   "execution_count": null,
   "metadata": {},
   "outputs": [],
   "source": [
    "key, sub = random.split(key)\n",
    "xi = jft.random_like(sub, signal_response_masked.domain)\n",
    "res = signal_response_masked(xi)\n",
    "\n",
    "plt.imshow(res)\n",
    "plt.colorbar()\n",
    "plt.show()"
   ]
  },
  {
   "cell_type": "code",
   "execution_count": null,
   "metadata": {},
   "outputs": [],
   "source": [
    "key, subkey = random.split(key)\n",
    "pos_truth = jft.random_like(subkey, signal_response_masked.domain)\n",
    "signal_response_masked_truth = signal_response_masked(pos_truth)\n",
    "\n",
    "noise_truth = 0.1 * jft.random_like(subkey, signal_response_masked.target)\n",
    "\n",
    "data_masked = signal_response_masked_truth + noise_truth\n",
    "\n",
    "plt.imshow(data_masked)\n",
    "plt.colorbar()\n",
    "plt.show()"
   ]
  },
  {
   "cell_type": "code",
   "execution_count": null,
   "metadata": {},
   "outputs": [],
   "source": [
    "noise_cov_inv = lambda x: 0.1**-2 * x\n",
    "\n",
    "lh_masked = jft.Gaussian(data_masked, noise_cov_inv).amend(signal_response_masked)"
   ]
  },
  {
   "cell_type": "code",
   "execution_count": null,
   "metadata": {},
   "outputs": [],
   "source": [
    "n_it = 5\n",
    "delta = 1e-4\n",
    "n_samples = 4\n",
    "\n",
    "key, k_i, k_o = random.split(key, 3)\n",
    "\n",
    "samples, state = jft.optimize_kl(\n",
    "    lh_masked,\n",
    "    jft.Vector(lh.init(k_i)),\n",
    "    n_total_iterations=n_it,\n",
    "    n_samples=n_samples,\n",
    "    key=k_o,\n",
    "    draw_linear_kwargs=dict(\n",
    "        cg_name=\"SL\",\n",
    "        cg_kwargs=dict(absdelta=delta * jft.size(lh.domain) / 10.0, maxiter=100),\n",
    "    ),\n",
    "    nonlinearly_update_kwargs=dict(\n",
    "        minimize_kwargs=dict(\n",
    "            name=\"SN\",\n",
    "            xtol=delta,\n",
    "            cg_kwargs=dict(name=None),\n",
    "            maxiter=5,\n",
    "        )\n",
    "    ),\n",
    "    kl_kwargs=dict(\n",
    "        minimize_kwargs=dict(\n",
    "            name=\"M\", xtol=delta, cg_kwargs=dict(name=None), maxiter=35\n",
    "        )\n",
    "    ),\n",
    "    sample_mode=\"nonlinear_resample\",\n",
    ")"
   ]
  },
  {
   "cell_type": "code",
   "execution_count": null,
   "metadata": {},
   "outputs": [],
   "source": [
    "sig_mean, sig_std = jft.mean_and_std(tuple(signal(s) for s in samples))\n",
    "\n",
    "plt.imshow(sig_mean)\n",
    "plt.colorbar()\n",
    "plt.show()\n",
    "\n",
    "plt.imshow(sig_std)\n",
    "plt.colorbar()\n",
    "plt.show()"
   ]
  },
  {
   "cell_type": "code",
   "execution_count": null,
   "metadata": {},
   "outputs": [],
   "source": []
  }
 ],
 "metadata": {
  "kernelspec": {
   "display_name": "maria",
   "language": "python",
   "name": "python3"
  },
  "language_info": {
   "codemirror_mode": {
    "name": "ipython",
    "version": 3
   },
   "file_extension": ".py",
   "mimetype": "text/x-python",
   "name": "python",
   "nbconvert_exporter": "python",
   "pygments_lexer": "ipython3",
   "version": "3.11.9"
  }
 },
 "nbformat": 4,
 "nbformat_minor": 2
}
