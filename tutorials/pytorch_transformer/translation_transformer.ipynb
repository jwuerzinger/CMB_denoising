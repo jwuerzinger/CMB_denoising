{
 "cells": [
  {
   "cell_type": "markdown",
   "metadata": {},
   "source": [
    "Taken from: https://pytorch.org/tutorials/beginner/translation_transformer.html"
   ]
  },
  {
   "cell_type": "code",
   "execution_count": 1,
   "metadata": {
    "collapsed": false
   },
   "outputs": [],
   "source": [
    "# For tips on running notebooks in Google Colab, see\n",
    "# https://pytorch.org/tutorials/beginner/colab\n",
    "# %matplotlib inline"
   ]
  },
  {
   "cell_type": "markdown",
   "metadata": {},
   "source": [
    "Language Translation with `nn.Transformer` and torchtext\n",
    "========================================================\n",
    "\n",
    "This tutorial shows:\n",
    "\n",
    ":   -   How to train a translation model from scratch using Transformer.\n",
    "    -   Use torchtext library to access\n",
    "        [Multi30k](http://www.statmt.org/wmt16/multimodal-task.html#task1)\n",
    "        dataset to train a German to English translation model.\n"
   ]
  },
  {
   "cell_type": "markdown",
   "metadata": {},
   "source": [
    "Data Sourcing and Processing\n",
    "============================\n",
    "\n",
    "[torchtext library](https://pytorch.org/text/stable/) has utilities for\n",
    "creating datasets that can be easily iterated through for the purposes\n",
    "of creating a language translation model. In this example, we show how\n",
    "to use torchtext\\'s inbuilt datasets, tokenize a raw text sentence,\n",
    "build vocabulary, and numericalize tokens into tensor. We will use\n",
    "[Multi30k dataset from torchtext\n",
    "library](https://pytorch.org/text/stable/datasets.html#multi30k) that\n",
    "yields a pair of source-target raw sentences.\n",
    "\n",
    "To access torchtext datasets, please install torchdata following\n",
    "instructions at <https://github.com/pytorch/data>.\n"
   ]
  },
  {
   "cell_type": "code",
   "execution_count": 2,
   "metadata": {
    "collapsed": false
   },
   "outputs": [
    {
     "name": "stdout",
     "output_type": "stream",
     "text": [
      "torchtext version: 0.17.0+cpu\n",
      "torchdata version: 0.7.1\n"
     ]
    }
   ],
   "source": [
    "import torchtext \n",
    "# Silence torchtext warnings:\n",
    "# torchtext.disable_torchtext_deprecation_warning()\n",
    "print(\"torchtext version:\", torchtext.__version__)\n",
    "import torchdata\n",
    "print(\"torchdata version:\", torchdata.__version__)\n",
    "\n",
    "from torchtext.data.utils import get_tokenizer\n",
    "from torchtext.vocab import build_vocab_from_iterator\n",
    "from torchtext.datasets import multi30k, Multi30k\n",
    "from typing import Iterable, List\n",
    "\n",
    "# We need to modify the URLs for the dataset since the links to the original dataset are broken\n",
    "# Refer to https://github.com/pytorch/text/issues/1756#issuecomment-1163664163 for more info\n",
    "multi30k.URL[\"train\"] = \"https://raw.githubusercontent.com/neychev/small_DL_repo/master/datasets/Multi30k/training.tar.gz\"\n",
    "multi30k.URL[\"valid\"] = \"https://raw.githubusercontent.com/neychev/small_DL_repo/master/datasets/Multi30k/validation.tar.gz\"\n",
    "\n",
    "SRC_LANGUAGE = 'de'\n",
    "TGT_LANGUAGE = 'en'\n",
    "\n",
    "# Place-holders\n",
    "token_transform = {}\n",
    "vocab_transform = {}"
   ]
  },
  {
   "cell_type": "markdown",
   "metadata": {},
   "source": [
    "Create source and target language tokenizer. Make sure to install the\n",
    "dependencies.\n",
    "\n",
    "``` {.sourceCode .python}\n",
    "pip install -U torchdata\n",
    "pip install -U spacy\n",
    "python -m spacy download en_core_web_sm\n",
    "python -m spacy download de_core_news_sm\n",
    "```\n"
   ]
  },
  {
   "cell_type": "code",
   "execution_count": 3,
   "metadata": {
    "collapsed": false
   },
   "outputs": [],
   "source": [
    "token_transform[SRC_LANGUAGE] = get_tokenizer('spacy', language='de_core_news_sm')\n",
    "token_transform[TGT_LANGUAGE] = get_tokenizer('spacy', language='en_core_web_sm')\n",
    "\n",
    "\n",
    "# helper function to yield list of tokens\n",
    "def yield_tokens(data_iter: Iterable, language: str) -> List[str]:\n",
    "    language_index = {SRC_LANGUAGE: 0, TGT_LANGUAGE: 1}\n",
    "\n",
    "    for data_sample in data_iter:\n",
    "        yield token_transform[language](data_sample[language_index[language]])\n",
    "\n",
    "# Define special symbols and indices\n",
    "UNK_IDX, PAD_IDX, BOS_IDX, EOS_IDX = 0, 1, 2, 3\n",
    "# Make sure the tokens are in order of their indices to properly insert them in vocab\n",
    "special_symbols = ['<unk>', '<pad>', '<bos>', '<eos>']\n",
    "\n",
    "for ln in [SRC_LANGUAGE, TGT_LANGUAGE]:\n",
    "    # Training data Iterator\n",
    "    train_iter = Multi30k(split='train', language_pair=(SRC_LANGUAGE, TGT_LANGUAGE))\n",
    "    # Create torchtext's Vocab object\n",
    "    vocab_transform[ln] = build_vocab_from_iterator(yield_tokens(train_iter, ln),\n",
    "                                                    min_freq=1,\n",
    "                                                    specials=special_symbols,\n",
    "                                                    special_first=True)\n",
    "\n",
    "# Set ``UNK_IDX`` as the default index. This index is returned when the token is not found.\n",
    "# If not set, it throws ``RuntimeError`` when the queried token is not found in the Vocabulary.\n",
    "for ln in [SRC_LANGUAGE, TGT_LANGUAGE]:\n",
    "  vocab_transform[ln].set_default_index(UNK_IDX)"
   ]
  },
  {
   "cell_type": "code",
   "execution_count": 4,
   "metadata": {},
   "outputs": [
    {
     "data": {
      "text/plain": [
       "['Dies', 'ist', 'ein', 'Satz', '!']"
      ]
     },
     "execution_count": 4,
     "metadata": {},
     "output_type": "execute_result"
    }
   ],
   "source": [
    "token_transform['de'](\"Dies ist ein Satz!\")"
   ]
  },
  {
   "cell_type": "markdown",
   "metadata": {},
   "source": [
    "Seq2Seq Network using Transformer\n",
    "=================================\n",
    "\n",
    "Transformer is a Seq2Seq model introduced in [\"Attention is all you\n",
    "need\"](https://papers.nips.cc/paper/2017/file/3f5ee243547dee91fbd053c1c4a845aa-Paper.pdf)\n",
    "paper for solving machine translation tasks. Below, we will create a\n",
    "Seq2Seq network that uses Transformer. The network consists of three\n",
    "parts. First part is the embedding layer. This layer converts tensor of\n",
    "input indices into corresponding tensor of input embeddings. These\n",
    "embedding are further augmented with positional encodings to provide\n",
    "position information of input tokens to the model. The second part is\n",
    "the actual\n",
    "[Transformer](https://pytorch.org/docs/stable/generated/torch.nn.Transformer.html)\n",
    "model. Finally, the output of the Transformer model is passed through\n",
    "linear layer that gives unnormalized probabilities for each token in the\n",
    "target language.\n"
   ]
  },
  {
   "cell_type": "code",
   "execution_count": 5,
   "metadata": {
    "collapsed": false
   },
   "outputs": [
    {
     "name": "stdout",
     "output_type": "stream",
     "text": [
      "cuda\n"
     ]
    }
   ],
   "source": [
    "from torch import Tensor\n",
    "import torch\n",
    "import torch.nn as nn\n",
    "from torch.nn import Transformer\n",
    "import math\n",
    "DEVICE = torch.device('cuda' if torch.cuda.is_available() else 'cpu')\n",
    "torch.cuda.set_device(1) # which GPU to use\n",
    "torch.set_num_threads(4) # how many threads to fill workers with\n",
    "print(DEVICE)\n",
    "\n",
    "# helper Module that adds positional encoding to the token embedding to introduce a notion of word order.\n",
    "class PositionalEncoding(nn.Module):\n",
    "    def __init__(self,\n",
    "                 emb_size: int,\n",
    "                 dropout: float,\n",
    "                 maxlen: int = 5000):\n",
    "        super(PositionalEncoding, self).__init__()\n",
    "        den = torch.exp(- torch.arange(0, emb_size, 2)* math.log(10000) / emb_size)\n",
    "        pos = torch.arange(0, maxlen).reshape(maxlen, 1)\n",
    "        pos_embedding = torch.zeros((maxlen, emb_size))\n",
    "        pos_embedding[:, 0::2] = torch.sin(pos * den)\n",
    "        pos_embedding[:, 1::2] = torch.cos(pos * den)\n",
    "        pos_embedding = pos_embedding.unsqueeze(-2)\n",
    "\n",
    "        self.dropout = nn.Dropout(dropout)\n",
    "        self.register_buffer('pos_embedding', pos_embedding)\n",
    "\n",
    "    def forward(self, token_embedding: Tensor):\n",
    "        return self.dropout(token_embedding + self.pos_embedding[:token_embedding.size(0), :])\n",
    "\n",
    "# helper Module to convert tensor of input indices into corresponding tensor of token embeddings\n",
    "class TokenEmbedding(nn.Module):\n",
    "    def __init__(self, vocab_size: int, emb_size):\n",
    "        super(TokenEmbedding, self).__init__()\n",
    "        self.embedding = nn.Embedding(vocab_size, emb_size)\n",
    "        self.emb_size = emb_size\n",
    "\n",
    "    def forward(self, tokens: Tensor):\n",
    "        return self.embedding(tokens.long()) * math.sqrt(self.emb_size)\n",
    "\n",
    "# Seq2Seq Network\n",
    "class Seq2SeqTransformer(nn.Module):\n",
    "    def __init__(self,\n",
    "                 num_encoder_layers: int,\n",
    "                 num_decoder_layers: int,\n",
    "                 emb_size: int,\n",
    "                 nhead: int,\n",
    "                 src_vocab_size: int,\n",
    "                 tgt_vocab_size: int,\n",
    "                 dim_feedforward: int = 512,\n",
    "                 dropout: float = 0.1):\n",
    "        super(Seq2SeqTransformer, self).__init__()\n",
    "        self.transformer = Transformer(d_model=emb_size,\n",
    "                                       nhead=nhead,\n",
    "                                       num_encoder_layers=num_encoder_layers,\n",
    "                                       num_decoder_layers=num_decoder_layers,\n",
    "                                       dim_feedforward=dim_feedforward,\n",
    "                                       dropout=dropout)\n",
    "        self.generator = nn.Linear(emb_size, tgt_vocab_size)\n",
    "        self.src_tok_emb = TokenEmbedding(src_vocab_size, emb_size)\n",
    "        self.tgt_tok_emb = TokenEmbedding(tgt_vocab_size, emb_size)\n",
    "        self.positional_encoding = PositionalEncoding(\n",
    "            emb_size, dropout=dropout)\n",
    "\n",
    "    def forward(self,\n",
    "                src: Tensor,\n",
    "                trg: Tensor,\n",
    "                src_mask: Tensor,\n",
    "                tgt_mask: Tensor,\n",
    "                src_padding_mask: Tensor,\n",
    "                tgt_padding_mask: Tensor,\n",
    "                memory_key_padding_mask: Tensor):\n",
    "        src_emb = self.positional_encoding(self.src_tok_emb(src))\n",
    "        tgt_emb = self.positional_encoding(self.tgt_tok_emb(trg))\n",
    "        outs = self.transformer(src_emb, tgt_emb, src_mask, tgt_mask, None,\n",
    "                                src_padding_mask, tgt_padding_mask, memory_key_padding_mask)\n",
    "        return self.generator(outs)\n",
    "\n",
    "    def encode(self, src: Tensor, src_mask: Tensor):\n",
    "        return self.transformer.encoder(self.positional_encoding(\n",
    "                            self.src_tok_emb(src)), src_mask)\n",
    "\n",
    "    def decode(self, tgt: Tensor, memory: Tensor, tgt_mask: Tensor):\n",
    "        return self.transformer.decoder(self.positional_encoding(\n",
    "                          self.tgt_tok_emb(tgt)), memory,\n",
    "                          tgt_mask)"
   ]
  },
  {
   "cell_type": "markdown",
   "metadata": {},
   "source": [
    "During training, we need a subsequent word mask that will prevent the\n",
    "model from looking into the future words when making predictions. We\n",
    "will also need masks to hide source and target padding tokens. Below,\n",
    "let\\'s define a function that will take care of both.\n"
   ]
  },
  {
   "cell_type": "code",
   "execution_count": 6,
   "metadata": {
    "collapsed": false
   },
   "outputs": [],
   "source": [
    "def generate_square_subsequent_mask(sz):\n",
    "    mask = (torch.triu(torch.ones((sz, sz), device=DEVICE)) == 1).transpose(0, 1)\n",
    "    mask = mask.float().masked_fill(mask == 0, float('-inf')).masked_fill(mask == 1, float(0.0))\n",
    "    return mask\n",
    "\n",
    "\n",
    "def create_mask(src, tgt):\n",
    "    src_seq_len = src.shape[0]\n",
    "    tgt_seq_len = tgt.shape[0]\n",
    "\n",
    "    tgt_mask = generate_square_subsequent_mask(tgt_seq_len)\n",
    "    src_mask = torch.zeros((src_seq_len, src_seq_len),device=DEVICE).type(torch.bool)\n",
    "\n",
    "    src_padding_mask = (src == PAD_IDX).transpose(0, 1)\n",
    "    tgt_padding_mask = (tgt == PAD_IDX).transpose(0, 1)\n",
    "    return src_mask, tgt_mask, src_padding_mask, tgt_padding_mask"
   ]
  },
  {
   "cell_type": "markdown",
   "metadata": {},
   "source": [
    "Let\\'s now define the parameters of our model and instantiate the same.\n",
    "Below, we also define our loss function which is the cross-entropy loss\n",
    "and the optimizer used for training.\n"
   ]
  },
  {
   "cell_type": "code",
   "execution_count": 7,
   "metadata": {
    "collapsed": false
   },
   "outputs": [
    {
     "name": "stderr",
     "output_type": "stream",
     "text": [
      "/scratch/users/jwuerzin/miniconda3/envs/transformer/lib/python3.11/site-packages/torch/nn/modules/transformer.py:286: UserWarning: enable_nested_tensor is True, but self.use_nested_tensor is False because encoder_layer.self_attn.batch_first was not True(use batch_first for better inference performance)\n",
      "  warnings.warn(f\"enable_nested_tensor is True, but self.use_nested_tensor is False because {why_not_sparsity_fast_path}\")\n"
     ]
    }
   ],
   "source": [
    "torch.manual_seed(0)\n",
    "\n",
    "SRC_VOCAB_SIZE = len(vocab_transform[SRC_LANGUAGE])\n",
    "TGT_VOCAB_SIZE = len(vocab_transform[TGT_LANGUAGE])\n",
    "EMB_SIZE = 512\n",
    "NHEAD = 8\n",
    "FFN_HID_DIM = 512\n",
    "BATCH_SIZE = 128\n",
    "NUM_ENCODER_LAYERS = 3\n",
    "NUM_DECODER_LAYERS = 3\n",
    "\n",
    "transformer = Seq2SeqTransformer(NUM_ENCODER_LAYERS, NUM_DECODER_LAYERS, EMB_SIZE,\n",
    "                                 NHEAD, SRC_VOCAB_SIZE, TGT_VOCAB_SIZE, FFN_HID_DIM)\n",
    "\n",
    "for p in transformer.parameters():\n",
    "    if p.dim() > 1:\n",
    "        nn.init.xavier_uniform_(p)\n",
    "\n",
    "transformer = transformer.to(DEVICE)\n",
    "\n",
    "loss_fn = torch.nn.CrossEntropyLoss(ignore_index=PAD_IDX)\n",
    "\n",
    "optimizer = torch.optim.Adam(transformer.parameters(), lr=0.0001, betas=(0.9, 0.98), eps=1e-9)"
   ]
  },
  {
   "cell_type": "markdown",
   "metadata": {},
   "source": [
    "Collation\n",
    "=========\n",
    "\n",
    "As seen in the `Data Sourcing and Processing` section, our data iterator\n",
    "yields a pair of raw strings. We need to convert these string pairs into\n",
    "the batched tensors that can be processed by our `Seq2Seq` network\n",
    "defined previously. Below we define our collate function that converts a\n",
    "batch of raw strings into batch tensors that can be fed directly into\n",
    "our model.\n"
   ]
  },
  {
   "cell_type": "code",
   "execution_count": 8,
   "metadata": {
    "collapsed": false
   },
   "outputs": [],
   "source": [
    "from torch.nn.utils.rnn import pad_sequence\n",
    "\n",
    "# helper function to club together sequential operations\n",
    "def sequential_transforms(*transforms):\n",
    "    def func(txt_input):\n",
    "        for transform in transforms:\n",
    "            txt_input = transform(txt_input)\n",
    "        return txt_input\n",
    "    return func\n",
    "\n",
    "# function to add BOS/EOS and create tensor for input sequence indices\n",
    "def tensor_transform(token_ids: List[int]):\n",
    "    return torch.cat((torch.tensor([BOS_IDX]),\n",
    "                      torch.tensor(token_ids),\n",
    "                      torch.tensor([EOS_IDX])))\n",
    "\n",
    "# ``src`` and ``tgt`` language text transforms to convert raw strings into tensors indices\n",
    "text_transform = {}\n",
    "for ln in [SRC_LANGUAGE, TGT_LANGUAGE]:\n",
    "    text_transform[ln] = sequential_transforms(token_transform[ln], #Tokenization\n",
    "                                               vocab_transform[ln], #Numericalization\n",
    "                                               tensor_transform) # Add BOS/EOS and create tensor\n",
    "\n",
    "\n",
    "# function to collate data samples into batch tensors\n",
    "def collate_fn(batch):\n",
    "    src_batch, tgt_batch = [], []\n",
    "    for src_sample, tgt_sample in batch:\n",
    "        src_batch.append(text_transform[SRC_LANGUAGE](src_sample.rstrip(\"\\n\")))\n",
    "        tgt_batch.append(text_transform[TGT_LANGUAGE](tgt_sample.rstrip(\"\\n\")))\n",
    "\n",
    "    src_batch = pad_sequence(src_batch, padding_value=PAD_IDX)\n",
    "    tgt_batch = pad_sequence(tgt_batch, padding_value=PAD_IDX)\n",
    "    return src_batch, tgt_batch"
   ]
  },
  {
   "cell_type": "markdown",
   "metadata": {},
   "source": [
    "Let\\'s define training and evaluation loop that will be called for each\n",
    "epoch.\n"
   ]
  },
  {
   "cell_type": "code",
   "execution_count": 25,
   "metadata": {},
   "outputs": [
    {
     "name": "stdout",
     "output_type": "stream",
     "text": [
      "<torch.utils.data.dataloader.DataLoader object at 0x7f342624ca50>\n",
      "('Zwei junge weiße Männer sind im Freien in der Nähe vieler Büsche.', 'Mehrere Männer mit Schutzhelmen bedienen ein Antriebsradsystem.', 'Ein kleines Mädchen klettert in ein Spielhaus aus Holz.', 'Ein Mann in einem blauen Hemd steht auf einer Leiter und putzt ein Fenster.', 'Zwei Männer stehen am Herd und bereiten Essen zu.', 'Ein Mann in grün hält eine Gitarre, während der andere Mann sein Hemd ansieht.', 'Ein Mann lächelt einen ausgestopften Löwen an.', 'Ein schickes Mädchen spricht mit dem Handy während sie langsam die Straße entlangschwebt.', 'Eine Frau mit einer großen Geldbörse geht an einem Tor vorbei.', 'Jungen tanzen mitten in der Nacht auf Pfosten.', 'Eine Ballettklasse mit fünf Mädchen, die nacheinander springen.', 'Vier Typen, von denen drei Hüte tragen und einer nicht, springen oben in einem Treppenhaus.', 'Ein schwarzer Hund und ein gefleckter Hund kämpfen.', 'Ein Mann in einer neongrünen und orangefarbenen Uniform fährt auf einem grünen Traktor.', 'Mehrere Frauen warten in einer Stadt im Freien.', 'Eine Frau mit schwarzem Oberteil und Brille streut Puderzucker auf einem Gugelhupf.', 'Ein kleines Mädchen sitzt vor einem großen gemalten Regenbogen.', 'Ein Mann liegt auf der Bank, an die auch ein weißer Hund angebunden ist.', 'Fünf Personen sitzen mit Instrumenten im Kreis.', 'Eine Gruppe älterer Frauen spielt zusammen Klarinette von Notenblättern.', 'Ein großes Bauwerk ist kaputt gegangen und liegt auf einer Fahrbahn.', 'Eine große Menschenmenge steht außen vor dem Eingang einer Metrostation.', 'Ein Mann, der ein Tattoo auf seinem Rücken erhält.', 'Zwei Kinder sitzen auf einer kleinen Wippe im Sand.', 'Ein Mann, der eine reflektierende Weste und einen Schutzhelm trägt, hält eine Flagge in die Straße.', 'Eine Person in einem blauen Mantel steht auf einem belebten Gehweg und betrachtet ein Gemälde einer Straßenszene.', 'Ein Mann in grünen Hosen läuft die Straße entlang.', 'Das kleine Kind klettert an roten Seilen auf einem Spielplatz.', 'Du weißt, dass ich aussehe wie Justin Bieber.', 'Ein junger Mann in einer schwarz-gelben Jacke blickt etwas an und lächelt.', 'Ein Mann, der mit einer Tasse Kaffee an einem Urinal steht.', 'Fünf gehende Personen mit einem mehrfarbigen Himmel im Hintergrund.', 'Ein alter Mann, der allein ein Bier trinkt.', 'Ein geschulter Polizeihund sitzt neben dem Hundeführer vor dem Polizeitransporter.', 'Eine Person fährt auf einer verschneiten Straße Fahrrad.', 'Fünf Männer, die alle weiße Hemden, Krawatten und schwarze Freizeithosen tragen, unterhalten sich hinter einem Lieferwagen.', 'Ein Mann mit einem nach hinten gerichteten Hut arbeitet an Maschinen.', 'Eine schwarze Frau und ein weißer Mann arbeiten in einer Fabrikumgebung und packen Gläser mit Kerzen in Kartons.', 'Ein asiatischer Mann kehrt den Gehweg.', 'Ein Mann lehnt sich in ein Auto, um mit dem Fahrer zu reden, während ein Mann auf einem Fahrrad zusieht.', 'Zwei Kleinkinder im Freien auf dem Gras.', 'Leute sehen einer Person in einem seltsamen Fahrzeug auf einem Platz zu.', 'Ein Mann geht an einem silbernen Fahrzeug vorbei.', 'Eine schöne Braut geht auf einem Gehweg mit ihrem neuen Ehemann.', \"Ein kleiner Junge spielt bei McDonald's GameCube.\", 'Ein weißer Hund schüttelt sich am Rande eines Strands mit einem orangefarbenen Ball.', 'Eine Gruppe von Personen, die im Park grillen.', 'Ein Mann mit Sonnenbrille legt seinen Arm um eine Frau in einer schwarz-weißen Bluse.', 'Ein Mann mit einem Luftballonhut und Leute, die im Freien an Picknicktischen essen.', 'Ein Junge, der während eines Taekwondo-Wettbewerbs einen Sprungtritt über drei Kinder macht und dabei auf Holz tritt.', 'Ein Junge in einer roten Jacke, der Wasser auf einen Mann in einem weißen Hemd gießt.', 'Ein Mann mit einer roten Jacke, der sich vor der Sonne schützt und versucht, ein Stück Papier zu lesen.', 'Männer, die eine Straße mit Kindern entlang laufen.', 'Ein kleiner Junge, der auf der Straße steht, während ein Mann in einem Overall an einer Steinwand arbeitet.', 'Ein schwarzer Hund springt über einen Baumstamm.', 'Ein Mann in einem Anzug rennt an zwei anderen Herren vorbei, die auch einen Anzug tragen.', 'Ein Mann in einem roten Hemd, der mit dem Fahrrad um Wasser herum fährt.', 'Ein Mann, der barfuß ist, olivgrüne kurze Hosen trägt, auf einem kleinen Propangasgrill Hotdogs grillt und gleichzeitig eine blaue Kunststofftasse hält.', 'Ein Hund rennt im Schnee.', 'Eine Menschenmenge steht und wartet, bis die Ampel grün wird.', 'Mann auf Skiern, das zu verkaufende Kunstwerke im Schnee betrachtet.', 'Sieben Kletterer klettern eine Felswand hoch, während ein anderer Mann dasteht und das Seil hält.', 'Der gelenkige Körper des jungen Turners schwebt über dem Schwebebalken.', 'Ein Junge schiebt ein Spielzeug-Geländefahrzeug um einen Gummi-Pool.', 'Eine Frau in einer roten Windjacke, die über ein auf einem Dach installiertes Fernrohr auf die darunterliegende Stadt blickt.', 'Ein Mann steht vor einem kleinen roten Objekt, das wie ein Flugzeug aussieht.', 'Ein Hund spielt mit einem Schlauch.', 'Ein Mann und ein kleines Mädchen posieren glücklich vor ihrem Einkaufswagen im Supermarkt.', 'Ein weißer Hund ist kurz davor, ein gelbes Hundespielzeug zu fangen.', 'Ein Kerl in einem grünen Hemd, dessen Hand einen Teil seines Gesichts bedeckt, in einer Nische im Restaurant.', 'Ein schwarz-weißer Hund spring zu einem gelben Spielzeug hoch.', 'Zwei Wanderer machen bei einem Stückchen Schnee Pause.', 'Ein Mann führt seine neue hölzerne Kreation vor.', 'Ein älterer Vater und sein erwachsener Sohn bereiten sich auf einen Camping-Ausflug in der Wildnis vor.', 'Ein Reisender mit Bart in einem roten Hemd, der in einem Auto sitzt und eine Karte liest.', 'Ein Junge winkt einer Ente im Wasser zu, umgeben von einer Grünanlage.', 'Ein Paar sitzt mit Baby und Sportwagen im Gras.', 'Ein paar Männer stehen vor einem Gebäude neben einem parkenden Auto.', 'Der schwarze Hund rennt durch das Wasser.', 'Ein Mann bohrt durch das gefrorene Eis eines Teichs.', 'Zwei große lohfarbene Hunde spielen an einem sandigen Strand.', 'Eine Person in blau und rot, die mit zwei Pickeln eisklettert.', 'Drei Personen, die auf einem Pfad in einer Wiese gehen.', 'Ein Mann in Schwarz schaufelt Schnee auf die Straße und ignoriert dabei die öffentliche Sicherheit.', 'Ein Paar steht hinter seiner Hochzeitstorte.', 'Ein nasser schwarzer Hund trägt ein grünes Spielzeug durch das Gras.', 'Dorfbewohner verkaufen ihre Ernte auf dem Markt.', 'In einem vollen Konzert nähert sich ein Mann dem Hauptsänger, der ein gelbes Hemd trägt.', 'Ein Junge springt auf seinem Skateboard, und eine Menschenmenge sieht zu.', 'Ein Mann und ein Baby befinden sich in einem gelben Kajak auf dem Wasser.', 'Zwei Personen sitzen auf einer Bank, und eine Frau steht neben ihnen.', 'Eine Baustelle auf einer Straße mit drei arbeitenden Männern.', 'Zwei Männer sitzen auf einer Bank und reden, im Hintergrund eine Reklamefläche mit Werbung für Brillen.', 'Eine Gruppe Jugendlicher geht die Straße entlang und schwenkt Fahnen, die das Farbspektrum zeigen.', 'Drei alte Männer sehen einem anderen Mann zu, wie er Fisch zubereitet.', 'Eine Frau einem einem weißen Pullunder mit einem grünen, wallenden Rock ein Lied singend auf der Bühne.', 'Zwei Männer und zwei Frauen, die auf Treppenstufen im Freien sitzen.', 'Ein brauner und ein schwarzer Labrador im Freien, wobei der schwarze Labrador ein Spielzeug in seinem Maul hat.', 'Junger männlicher Hockey-Goalie in roter Jacke duckt sich mit Stock beim Tor.', 'Der Mann mit dem Rucksack sitzt im Hof eines Gebäudes vor einer Skulptur und liest.', 'Männliches Kleinkind in einem roten Hut, das sich an einem Geländer festhält.', 'Drei Hunde stehen auf einer Wiese und eine Person kniet in der Nähe.', 'Ein Mann steht vor einem Hochhaus.', 'Eine Frau fährt ihr Baby in einem Sportwagen im örtlichen Park spazieren.', 'Ein Mann in einem roten Hemd sitzt neben Obst, das zu verkaufen ist.', 'Ein blondhaariger Junge und ein dunkelhaariges Mädchen essen an einem Kindertisch.', 'Der Junge isst sein Essen draußen am Tisch.', 'Ein Mann in Schwarz spielt auf einem Konzert eine Elektrogitarre.', 'Ein Mädchen, das Softball spielt, schlägt den Ball fast senkrecht nach unten.', 'Ein Mann in einem schwarzen Hemd spielt eine schwarze Gitarre.', 'Ein Mann, der ein schwarzes Hemd trägt und in einer städtischen Umgebung Beton glättet.', 'Eine Frau in einem weißen Rock sitzt an einem Tisch in einem hübschen Restaurant.', 'Eine Frau liegt auf einer roten Decke in einem Park.', 'Ein einzelner Mann steht abends auf einer Brücke.', 'Ein Kind geht durch eine Wiese.', 'Ein Mann und sein Hund grillen grüne Bohnen auf einem Grill.', 'Drei Personen machen auf einem Felsvorsprung über den Bergen Rast.', 'Viele Menschen überqueren eine sehr hohe Fußbrücke mit einem baumbewachsenen Hügel im Hintergrund.', 'Ein Junge blickt auf eine Ansammlung von Schlauchbooten.', 'Zwei kleine Mädchen und ein alter Mann unterhalten sich.', 'Ein asiatischer Mann und eine blonde Frau, die Händchen halten, im Freien, ein Mann im Hintergrund sieht zu.', 'Ein älterer Mann mit grauem Haar, der in einem Stuhl sitzt und ein großes Instrument aus Bambus spielt.', 'Ein Mann in einem weißen Hemd fährt auf einer belebten Straße Fahrrad.', 'Ein Mann steht auf einer Leiter und malt Ziegel.', 'Ein Mann in den Dreißigern spielt in einer U-Bahn mit seinem Telefon.', 'Zwei Frauen gehen über einen Fußgängerübergang mit einem Bus im Hintergrund.', 'Eine Gruppe von Leuten isst Nudeln.', 'Eine Frau in der Nähe des Meeres trägt eine Schale voller Obst auf ihrer Hand.') 128\n"
     ]
    }
   ],
   "source": [
    "from torch.utils.data import DataLoader\n",
    "\n",
    "train_iter = Multi30k(split='train', language_pair=(SRC_LANGUAGE, TGT_LANGUAGE))\n",
    "train_dataloader = DataLoader(train_iter, batch_size=BATCH_SIZE, collate_fn=collate_fn)\n",
    "# train_dataloader = DataLoader(train_iter, batch_size=BATCH_SIZE)\n",
    "print(train_dataloader)\n",
    "\n",
    "for x, y in train_dataloader:\n",
    "    # print(type(x), x.shape)\n",
    "    # print(type(y), y.shape)\n",
    "    print(x, len(x))\n",
    "    break"
   ]
  },
  {
   "cell_type": "code",
   "execution_count": 10,
   "metadata": {
    "collapsed": false
   },
   "outputs": [],
   "source": [
    "from torch.utils.data import DataLoader\n",
    "\n",
    "def train_epoch(model, optimizer):\n",
    "    model.train()\n",
    "    losses = 0\n",
    "    train_iter = Multi30k(split='train', language_pair=(SRC_LANGUAGE, TGT_LANGUAGE))\n",
    "    train_dataloader = DataLoader(train_iter, batch_size=BATCH_SIZE, collate_fn=collate_fn)\n",
    "\n",
    "    for src, tgt in train_dataloader:\n",
    "        src = src.to(DEVICE)\n",
    "        tgt = tgt.to(DEVICE)\n",
    "\n",
    "        tgt_input = tgt[:-1, :]\n",
    "\n",
    "        src_mask, tgt_mask, src_padding_mask, tgt_padding_mask = create_mask(src, tgt_input)\n",
    "\n",
    "        logits = model(src, tgt_input, src_mask, tgt_mask,src_padding_mask, tgt_padding_mask, src_padding_mask)\n",
    "\n",
    "        optimizer.zero_grad()\n",
    "\n",
    "        tgt_out = tgt[1:, :]\n",
    "        loss = loss_fn(logits.reshape(-1, logits.shape[-1]), tgt_out.reshape(-1))\n",
    "        loss.backward()\n",
    "\n",
    "        optimizer.step()\n",
    "        losses += loss.item()\n",
    "\n",
    "    return losses / len(list(train_dataloader))\n",
    "\n",
    "\n",
    "def evaluate(model):\n",
    "    model.eval()\n",
    "    losses = 0\n",
    "\n",
    "    val_iter = Multi30k(split='valid', language_pair=(SRC_LANGUAGE, TGT_LANGUAGE))\n",
    "    val_dataloader = DataLoader(val_iter, batch_size=BATCH_SIZE, collate_fn=collate_fn)\n",
    "\n",
    "    for src, tgt in val_dataloader:\n",
    "        src = src.to(DEVICE)\n",
    "        tgt = tgt.to(DEVICE)\n",
    "\n",
    "        tgt_input = tgt[:-1, :]\n",
    "\n",
    "        src_mask, tgt_mask, src_padding_mask, tgt_padding_mask = create_mask(src, tgt_input)\n",
    "\n",
    "        logits = model(src, tgt_input, src_mask, tgt_mask,src_padding_mask, tgt_padding_mask, src_padding_mask)\n",
    "\n",
    "        tgt_out = tgt[1:, :]\n",
    "        loss = loss_fn(logits.reshape(-1, logits.shape[-1]), tgt_out.reshape(-1))\n",
    "        losses += loss.item()\n",
    "\n",
    "    return losses / len(list(val_dataloader))"
   ]
  },
  {
   "cell_type": "markdown",
   "metadata": {},
   "source": [
    "Now we have all the ingredients to train our model. Let\\'s do it!\n"
   ]
  },
  {
   "cell_type": "code",
   "execution_count": 11,
   "metadata": {
    "collapsed": false
   },
   "outputs": [
    {
     "name": "stderr",
     "output_type": "stream",
     "text": [
      "/scratch/users/jwuerzin/miniconda3/envs/transformer/lib/python3.11/site-packages/torch/nn/functional.py:5109: UserWarning: Support for mismatched key_padding_mask and attn_mask is deprecated. Use same type for both instead.\n",
      "  warnings.warn(\n",
      "/scratch/users/jwuerzin/miniconda3/envs/transformer/lib/python3.11/site-packages/torch/utils/data/datapipes/iter/combining.py:337: UserWarning: Some child DataPipes are not exhausted when __iter__ is called. We are resetting the buffer and each child DataPipe will read from the start again.\n",
      "  warnings.warn(\"Some child DataPipes are not exhausted when __iter__ is called. We are resetting \"\n"
     ]
    },
    {
     "name": "stdout",
     "output_type": "stream",
     "text": [
      "Epoch: 1, Train loss: 5.344, Val loss: 4.117, Epoch time = 8.051s\n"
     ]
    },
    {
     "ename": "KeyboardInterrupt",
     "evalue": "",
     "output_type": "error",
     "traceback": [
      "\u001b[0;31m---------------------------------------------------------------------------\u001b[0m",
      "\u001b[0;31mKeyboardInterrupt\u001b[0m                         Traceback (most recent call last)",
      "Cell \u001b[0;32mIn[11], line 11\u001b[0m\n\u001b[1;32m      9\u001b[0m \u001b[38;5;28;01mfor\u001b[39;00m epoch \u001b[38;5;129;01min\u001b[39;00m \u001b[38;5;28mrange\u001b[39m(\u001b[38;5;241m1\u001b[39m, NUM_EPOCHS\u001b[38;5;241m+\u001b[39m\u001b[38;5;241m1\u001b[39m):\n\u001b[1;32m     10\u001b[0m     start_time \u001b[38;5;241m=\u001b[39m timer()\n\u001b[0;32m---> 11\u001b[0m     train_loss \u001b[38;5;241m=\u001b[39m \u001b[43mtrain_epoch\u001b[49m\u001b[43m(\u001b[49m\u001b[43mtransformer\u001b[49m\u001b[43m,\u001b[49m\u001b[43m \u001b[49m\u001b[43moptimizer\u001b[49m\u001b[43m)\u001b[49m\n\u001b[1;32m     12\u001b[0m     end_time \u001b[38;5;241m=\u001b[39m timer()\n\u001b[1;32m     13\u001b[0m     val_loss \u001b[38;5;241m=\u001b[39m evaluate(transformer)\n",
      "Cell \u001b[0;32mIn[10], line 26\u001b[0m, in \u001b[0;36mtrain_epoch\u001b[0;34m(model, optimizer)\u001b[0m\n\u001b[1;32m     23\u001b[0m     loss\u001b[38;5;241m.\u001b[39mbackward()\n\u001b[1;32m     25\u001b[0m     optimizer\u001b[38;5;241m.\u001b[39mstep()\n\u001b[0;32m---> 26\u001b[0m     losses \u001b[38;5;241m+\u001b[39m\u001b[38;5;241m=\u001b[39m \u001b[43mloss\u001b[49m\u001b[38;5;241;43m.\u001b[39;49m\u001b[43mitem\u001b[49m\u001b[43m(\u001b[49m\u001b[43m)\u001b[49m\n\u001b[1;32m     28\u001b[0m \u001b[38;5;28;01mreturn\u001b[39;00m losses \u001b[38;5;241m/\u001b[39m \u001b[38;5;28mlen\u001b[39m(\u001b[38;5;28mlist\u001b[39m(train_dataloader))\n",
      "\u001b[0;31mKeyboardInterrupt\u001b[0m: "
     ]
    }
   ],
   "source": [
    "from timeit import default_timer as timer\n",
    "import matplotlib.pyplot as plt\n",
    "NUM_EPOCHS = 18\n",
    "# NUM_EPOCHS = 2\n",
    "\n",
    "train_losses = []\n",
    "val_losses = []\n",
    "\n",
    "for epoch in range(1, NUM_EPOCHS+1):\n",
    "    start_time = timer()\n",
    "    train_loss = train_epoch(transformer, optimizer)\n",
    "    end_time = timer()\n",
    "    val_loss = evaluate(transformer)\n",
    "    \n",
    "    train_losses += [train_loss,]\n",
    "    val_losses += [val_loss,]\n",
    "    print((f\"Epoch: {epoch}, Train loss: {train_loss:.3f}, Val loss: {val_loss:.3f}, \"f\"Epoch time = {(end_time - start_time):.3f}s\"))\n",
    "\n",
    "# function to generate output sequence using greedy algorithm\n",
    "def greedy_decode(model, src, src_mask, max_len, start_symbol):\n",
    "    src = src.to(DEVICE)\n",
    "    src_mask = src_mask.to(DEVICE)\n",
    "\n",
    "    memory = model.encode(src, src_mask)\n",
    "    ys = torch.ones(1, 1).fill_(start_symbol).type(torch.long).to(DEVICE)\n",
    "    for i in range(max_len-1):\n",
    "        memory = memory.to(DEVICE)\n",
    "        tgt_mask = (generate_square_subsequent_mask(ys.size(0))\n",
    "                    .type(torch.bool)).to(DEVICE)\n",
    "        out = model.decode(ys, memory, tgt_mask)\n",
    "        out = out.transpose(0, 1)\n",
    "        prob = model.generator(out[:, -1])\n",
    "        _, next_word = torch.max(prob, dim=1)\n",
    "        next_word = next_word.item()\n",
    "\n",
    "        ys = torch.cat([ys,\n",
    "                        torch.ones(1, 1).type_as(src.data).fill_(next_word)], dim=0)\n",
    "        if next_word == EOS_IDX:\n",
    "            break\n",
    "    return ys\n",
    "\n",
    "\n",
    "# actual function to translate input sentence into target language\n",
    "def translate(model: torch.nn.Module, src_sentence: str):\n",
    "    model.eval()\n",
    "    src = text_transform[SRC_LANGUAGE](src_sentence).view(-1, 1)\n",
    "    num_tokens = src.shape[0]\n",
    "    src_mask = (torch.zeros(num_tokens, num_tokens)).type(torch.bool)\n",
    "    tgt_tokens = greedy_decode(\n",
    "        model,  src, src_mask, max_len=num_tokens + 5, start_symbol=BOS_IDX).flatten()\n",
    "    return \" \".join(vocab_transform[TGT_LANGUAGE].lookup_tokens(list(tgt_tokens.cpu().numpy()))).replace(\"<bos>\", \"\").replace(\"<eos>\", \"\")"
   ]
  },
  {
   "cell_type": "code",
   "execution_count": null,
   "metadata": {},
   "outputs": [
    {
     "data": {
      "image/png": "[encoded data removed]",
      "text/plain": [
       "<Figure size 1000x400 with 1 Axes>"
      ]
     },
     "metadata": {},
     "output_type": "display_data"
    }
   ],
   "source": [
    "fig, axes = plt.subplots(1, 1, figsize=(10,4))\n",
    "axes.plot(train_losses, label='training loss')\n",
    "axes.plot(val_losses, label='val_losses')\n",
    "plt.legend()\n",
    "plt.yscale('log')\n",
    "plt.show()"
   ]
  },
  {
   "cell_type": "code",
   "execution_count": null,
   "metadata": {
    "collapsed": false
   },
   "outputs": [
    {
     "name": "stdout",
     "output_type": "stream",
     "text": [
      " A group of people stand in front of an igloo . \n"
     ]
    }
   ],
   "source": [
    "print(translate(transformer, \"Eine Gruppe von Menschen steht vor einem Iglu .\"))"
   ]
  },
  {
   "cell_type": "code",
   "execution_count": null,
   "metadata": {},
   "outputs": [],
   "source": [
    "# torch.cuda.set_device(0) # which GPU to use\n",
    "torch.cuda.empty_cache()"
   ]
  },
  {
   "cell_type": "markdown",
   "metadata": {},
   "source": [
    "References\n",
    "==========\n",
    "\n",
    "1.  Attention is all you need paper.\n",
    "    <https://papers.nips.cc/paper/2017/file/3f5ee243547dee91fbd053c1c4a845aa-Paper.pdf>\n",
    "2.  The annotated transformer.\n",
    "    <https://nlp.seas.harvard.edu/2018/04/03/attention.html#positional-encoding>\n"
   ]
  }
 ],
 "metadata": {
  "kernelspec": {
   "display_name": "Python 3",
   "language": "python",
   "name": "python3"
  },
  "language_info": {
   "codemirror_mode": {
    "name": "ipython",
    "version": 3
   },
   "file_extension": ".py",
   "mimetype": "text/x-python",
   "name": "python",
   "nbconvert_exporter": "python",
   "pygments_lexer": "ipython3",
   "version": "3.11.9"
  }
 },
 "nbformat": 4,
 "nbformat_minor": 0
}
